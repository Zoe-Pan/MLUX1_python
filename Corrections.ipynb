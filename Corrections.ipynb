{
 "cells": [
  {
   "cell_type": "markdown",
   "metadata": {},
   "source": [
    "# Notez que les corrections  fonctionnent uniquement dans le contexte du notebook de cour et non celui-ci\n",
    "\n",
    "### Exercice 1 :\n",
    "Dans la cellule ci-dessous, créez 3 variables. \n",
    "- la première nommée \"d\" contient False\n",
    "- la deuxième contient 6.3, donnez-lui le nom \"my_var\"\n",
    "- la troisième est décrit de la manière suivante\n",
    "\n",
    "Nom | Valeur\n",
    "--- | :---:\n",
    "my_other_var | \"I am literally text\"\n",
    "\n",
    "- la quatrième s'appellera \"rez\" et est égale a la valeur de `a` fois la valeur de my_var"
   ]
  },
  {
   "cell_type": "code",
   "execution_count": null,
   "metadata": {},
   "outputs": [],
   "source": [
    "d = False\n",
    "my_var = 6.3\n",
    "my_other_var = \"I am literally text\"\n",
    "rez = a + my_var"
   ]
  },
  {
   "cell_type": "markdown",
   "metadata": {},
   "source": [
    "### Exercice 2 :\n",
    "Imprimez (i.e utilisez `print()`) le résultat des opérations suivantes\n",
    "- a est égal à my_var\n",
    "- a est différent de my_var\n",
    "- b est inférieur ou égal à b"
   ]
  },
  {
   "cell_type": "code",
   "execution_count": null,
   "metadata": {},
   "outputs": [],
   "source": [
    "print(a == my_var)\n",
    "print(a != my_var)\n",
    "print(b <= b)"
   ]
  },
  {
   "cell_type": "markdown",
   "metadata": {},
   "source": [
    "### Exercice 3 \n",
    "- Créez un tableau appelle `pi` et donnez-lui les valeurs `3`, `14` et `15`\n",
    "- Affichez le 2ieme élément du tableau `my_mixed_list`\n",
    "- Affichez le troisième élément du tableau `excel`"
   ]
  },
  {
   "cell_type": "code",
   "execution_count": null,
   "metadata": {},
   "outputs": [],
   "source": [
    "pi = [3,14,15]\n",
    "print(my_mixed_list[1])\n",
    "print(excel[2])"
   ]
  },
  {
   "cell_type": "markdown",
   "metadata": {},
   "source": [
    "### Exercice 4\n",
    "- Affichez la longueur de tableau `my_list`\n",
    "- Affichez la longueur du tableau `excel`\n",
    "- Bonus : Affichez la longueur de la première ligne du tableau `excel` (vous êtes libre de sauter les exercices bonus et je vous conseille de ne pas passer plus que 10min dessus après ça, revenez dessus plus tard si vraiment ça vous rend malade)"
   ]
  },
  {
   "cell_type": "code",
   "execution_count": null,
   "metadata": {},
   "outputs": [],
   "source": [
    "print(len(my_list))\n",
    "print(len(excel))\n",
    "print(len(excel[0]))"
   ]
  },
  {
   "cell_type": "markdown",
   "metadata": {},
   "source": [
    "#### Exercice 5 \n",
    "- Ajoutez 5.2 a `my_list`\n",
    "- bonus : Ajoutez la ligne suivante au tableau `excel` \n",
    "\n",
    "| 人 | rén |person\n",
    "| --- | --- | ---"
   ]
  },
  {
   "cell_type": "code",
   "execution_count": null,
   "metadata": {},
   "outputs": [],
   "source": [
    "my_list.append(5.2)\n",
    "excel.append([\"人\",\"rén\",\"person\"])"
   ]
  },
  {
   "cell_type": "markdown",
   "metadata": {},
   "source": [
    "#### Exercice 6\n",
    "Pour chaque élément de `my_list` affichez le résultat de l'opération \"l'élément est supérieur ou égal à 7"
   ]
  },
  {
   "cell_type": "code",
   "execution_count": null,
   "metadata": {},
   "outputs": [],
   "source": [
    "for i in range(len(my_list)):\n",
    "    print(my_list[i] >= 7)\n",
    "\n",
    "\n",
    "#solution alternative\n",
    "for element in my_list:\n",
    "    print(element >= 7)"
   ]
  },
  {
   "cell_type": "markdown",
   "metadata": {},
   "source": [
    "#### Exercice 7\n",
    "Créez le dictionnaire suivant et stocker le dans une variable nommée `meow`\n",
    "\n",
    "nom | valeur\n",
    ":---:|:---:\n",
    "name| \"Azur\"\n",
    "specie|\"cat\"\n",
    "breed|\"european\"\n",
    "weight|3.8\n",
    "chipped | True"
   ]
  },
  {
   "cell_type": "code",
   "execution_count": null,
   "metadata": {},
   "outputs": [],
   "source": [
    "meow = {\n",
    "    'name':\"Azur\",\n",
    "    'specie':\"cat\",\n",
    "    'breed':\"european\",\n",
    "    'weight': 3.8,\n",
    "    'chipped': True}"
   ]
  },
  {
   "cell_type": "markdown",
   "metadata": {},
   "source": [
    "#### Exercice 8 \n",
    "Ajoutez `1.1` au `weight` du dictionnaire `meow`"
   ]
  },
  {
   "cell_type": "code",
   "execution_count": null,
   "metadata": {},
   "outputs": [],
   "source": [
    "meow['weight'] = meow['weight'] + 1.1\n",
    "\n",
    "#solution alternative\n",
    "meow['weight'] += 1.1"
   ]
  },
  {
   "cell_type": "markdown",
   "metadata": {},
   "source": [
    "#### Exercice 9\n",
    "Expliquer la fonction ci-dessous comme `pow()` ci-dessus\n",
    "\n",
    "```log(x[, base])```\n",
    "\n",
    "    With one argument, return the natural logarithm of x (to base e).\n",
    "\n",
    "    With two arguments, return the logarithm of x to the given base, calculated as log(x)/log(base)."
   ]
  },
  {
   "cell_type": "markdown",
   "metadata": {},
   "source": [
    "- son nom : log\n",
    "- ses entrées : x et optionnellement \"base\"\n",
    "- sa sortie : le logarithme de X ecrit dans le format de la base"
   ]
  },
  {
   "cell_type": "code",
   "execution_count": null,
   "metadata": {},
   "outputs": [],
   "source": []
  }
 ],
 "metadata": {
  "kernelspec": {
   "display_name": "Python 3",
   "language": "python",
   "name": "python3"
  },
  "language_info": {
   "codemirror_mode": {
    "name": "ipython",
    "version": 3
   },
   "file_extension": ".py",
   "mimetype": "text/x-python",
   "name": "python",
   "nbconvert_exporter": "python",
   "pygments_lexer": "ipython3",
   "version": "3.8.3"
  }
 },
 "nbformat": 4,
 "nbformat_minor": 4
}
