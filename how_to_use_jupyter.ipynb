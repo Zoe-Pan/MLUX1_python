{
 "cells": [
  {
   "cell_type": "markdown",
   "metadata": {},
   "source": [
    "# Comment se servir de Jupyter notebooks\n",
    "\n",
    "Un notebook est un document qui contient des cellules comme celle que vous lisez actuellement. Il existe principalement 2 types de cellules, les cellules python qui contiennent du code et des cellules markdown qui contiennent du texte légèrement formate grâce à la syntaxe markdown ([syntaxe trouvable ici](https://www.markdownguide.org/cheat-sheet/) ou encore dans `Help -> markdown`)"
   ]
  },
  {
   "cell_type": "markdown",
   "metadata": {},
   "source": [
    "## Manipulation de cellule\n",
    "\n",
    "- Pour éditer une cellule, double cliquez dessus ou appuyez sur `Enter` après l'avoir sélectionné\n",
    "- `Ctrl + Enter` ou `Cmd + Enter` vous permet d'exécuter le code de la cellule courante si vous êtes dans une cellule python ou de quitter l'édition d'une cellule markdown (vous pouvez aussi utiliser le bouton \"Exécuter\" en haut de la page)"
   ]
  },
  {
   "cell_type": "code",
   "execution_count": 2,
   "metadata": {},
   "outputs": [],
   "source": [
    "a_variable = 12"
   ]
  },
  {
   "cell_type": "markdown",
   "metadata": {},
   "source": [
    "## Plusieurs cellules python mais un seul notebook\n",
    "\n",
    "Faites attention, votre python est dans plusieurs cellules mais elles partagent toutes la même plage mémoire, du coup la variable qui est définie dans la cellule au-dessus peut être utilisée dans la cellule ci-dessous."
   ]
  },
  {
   "cell_type": "code",
   "execution_count": 7,
   "metadata": {},
   "outputs": [
    {
     "name": "stdout",
     "output_type": "stream",
     "text": [
      "12\n"
     ]
    }
   ],
   "source": [
    "print(a_variable)"
   ]
  },
  {
   "cell_type": "markdown",
   "metadata": {},
   "source": [
    "### Out\n",
    "Vous voyez que pour voir le contenu de la variable on a utilisé le mot \"print\" mais dans jupyter notebooks les cellules de code affichent par défaut la valeur de la dernière ligne. Faites tourner les deux cellules suivantes pour observer la différence."
   ]
  },
  {
   "cell_type": "code",
   "execution_count": 5,
   "metadata": {},
   "outputs": [
    {
     "data": {
      "text/plain": [
       "24"
      ]
     },
     "execution_count": 5,
     "metadata": {},
     "output_type": "execute_result"
    }
   ],
   "source": [
    "a_variable # cette ligne a une valeur, mais n'etant pas la derniere ligne vous ne verrez que le resultat de la ligne ci-dessous\n",
    "a_variable + a_variable"
   ]
  },
  {
   "cell_type": "markdown",
   "metadata": {},
   "source": [
    "`print()` nous permet de connaitre la valeur d'une variable peux importe sa place"
   ]
  },
  {
   "cell_type": "code",
   "execution_count": 6,
   "metadata": {},
   "outputs": [
    {
     "name": "stdout",
     "output_type": "stream",
     "text": [
      "12\n",
      "24\n"
     ]
    }
   ],
   "source": [
    "print(a_variable)\n",
    "print(a_variable + a_variable)"
   ]
  },
  {
   "cell_type": "markdown",
   "metadata": {},
   "source": [
    "Par convention j'utiliserais systématiquement `print()` pour rendre plus explicite le lien entre le résultat affiche et d'où il vient."
   ]
  },
  {
   "cell_type": "markdown",
   "metadata": {},
   "source": [
    "## L'ordre\n",
    "\n",
    "Vous aurez remarqué qu'à gauche de vos cellules python vous avez \"Entrée \\[X\\]\" ou X est un nombre. X représente l'ordre dans lequel vos cellules ont été exécutées. Le code c'est comme la cuisine, certaines étapes doivent être fait dans l'ordre. On ne met pas le gâteau dans le four sans avoir mélangés les ingrédients et on utilise pas une variable si on ne l’a pas créé. Du coup il faut que la première cellule soit exécutée au moins une fois avant d'exécuter celle-ci dessus. Si vous voulez tester vous pouvez remettre votre notebook a 0 en allant dans `Kernel -> Restart & Clear Output` et essayez d'exécuter la deuxième cellule d'abord.\n",
    "\n",
    "## Mises à jour\n",
    "\n",
    "Si vous changez du code dans des cellules un peu plus en amont vous aurez besoin de le l’exécuter à nouveau. Essayez de modifier la première cellule (sans l'exécuter) en mettant 24 au lieu de 6 et essayer d'exécuter la deuxième cellule. Après cette essai, exécutez la première cellule puis la "
   ]
  },
  {
   "cell_type": "markdown",
   "metadata": {},
   "source": [
    "## Manipuler son notebook\n",
    "Voici la liste des trucs utiles à savoir faire\n",
    "\n",
    "- `Ctrl + Enter` ou `Cmd + Enter` pour valider ou exécuter la cellule en cours\n",
    "- `Shift + Enter` valide/exécute la cellule en cours et vous fait passer la cellule suivante (s’il n'y a pas de \"cellule suivante\" elle sera créée)\n",
    "- pour exécuter toutes les cellules précédentes de la plus haute a la plus basse `Cell -> Run All Above` (cette manipulation n'exécutera pas la cellule que vous avez sélectionnée)\n",
    "\n",
    "Manips un peu extrêmes\n",
    "- pour exécuter toutes les cellules dans l'ordre `Cell -> Run All`\n",
    "- pour repartir de 0 et effacer la mémoire de votre notebook `Kernel -> Restart & Clear Output`\n",
    "\n",
    "Autres...\n",
    "- si vous n'êtes pas en cours d’édition (autrement dit, si la barre verticale à gauche de la cellule courante est bleu) vous pouvez transformer la cellule en markdown en appuyant sur la touche m ou la transforme en cellule python en appuyant sur y\n",
    "- si vous n'avez aucune cellule en cours d’édition vous pouvez appuyer sur la touche h pour afficher les raccourcis\n"
   ]
  }
 ],
 "metadata": {
  "kernelspec": {
   "display_name": "Python 3",
   "language": "python",
   "name": "python3"
  },
  "language_info": {
   "codemirror_mode": {
    "name": "ipython",
    "version": 3
   },
   "file_extension": ".py",
   "mimetype": "text/x-python",
   "name": "python",
   "nbconvert_exporter": "python",
   "pygments_lexer": "ipython3",
   "version": "3.8.3"
  }
 },
 "nbformat": 4,
 "nbformat_minor": 4
}
