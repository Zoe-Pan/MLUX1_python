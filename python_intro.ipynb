{
 "cells": [
  {
   "cell_type": "markdown",
   "metadata": {},
   "source": [
    "# Intro Python\n",
    "\n",
    "Les points de vocabulaires seront dénotés comme ceci : \n",
    "> mot \n",
    "\n",
    "``` la définition du mot```"
   ]
  },
  {
   "cell_type": "markdown",
   "metadata": {},
   "source": [
    "## I. Commentaires\n",
    "\n",
    "En python, on peut insérer un commentaire textuel dans le code soit\n",
    "- sur une ligne après un dièse `#` \n",
    "- sous forme de blocks allant du symbole `/*` au symbole `*/`\n",
    "Un commentaire sert à donner du contexte au code adjacent\n",
    "\n",
    "## II. Variables\n",
    "Au final, un pc c'est une grosse calculatrice qu'on peut mettre en réseau, le but de nos manouvres sera toujours de récupérer/manipuler/transformer des **valeurs** et pour cela nous utilisons des **variables**.\n",
    "\n",
    "> valeur\n",
    "\n",
    "```une entité d'une certaine catégorie dont les éléments sont mesurables et comparable entre eux. \n",
    "Par exemple 4 est une valeur numérique 6 aussi tandis que \"vrai\" et \"faux\" sont des valeurs logiques```\n",
    "\n",
    "> variable\n",
    "\n",
    "```un espace en mémoire portant un nom et contenant une valeur.\n",
    "Par exemple le code dans la cellule ci-dessous peut être représentée comme ceci``` \n",
    "\n",
    " Nom de la variable  |  Valeur\n",
    ":------------------: |  :---:\n",
    "        a            |   16\n",
    "        b            | banane\n",
    "        c            |  Vrai\n",
    "        \n",
    "Pour créer une variable il suffit de mettre son nom `=` sa valeur. Attention, les noms sont sensibles à la capitalisation, la variable `my_var` et la variable `my_Var` sont deux variables différentes.\n",
    "\n",
    "Pour créer les variables comme spécifiées dans le tableau ci-dessus il faut écrire le code ci-dessous"
   ]
  },
  {
   "cell_type": "code",
   "execution_count": null,
   "metadata": {},
   "outputs": [],
   "source": [
    "a = 16\n",
    "b = \"banane\"\n",
    "c = True"
   ]
  },
  {
   "cell_type": "markdown",
   "metadata": {},
   "source": [
    "Pour changer la valeur contenue par une variable c'est exactement la même forme du coup avec le code ci-dessous `a` ne vaudra plus 16 mais 24."
   ]
  },
  {
   "cell_type": "code",
   "execution_count": null,
   "metadata": {},
   "outputs": [],
   "source": [
    "a = 24"
   ]
  },
  {
   "cell_type": "markdown",
   "metadata": {},
   "source": [
    "A notez que cette façon de faire peut créer des erreurs cachées. Si j'écris ```une_grosse_variable_dans_laquelle_je_peux_facilement_faire_une_faute_de_frappe = 3``` et plus tard je veux changer son contenu et je tappe```une_grosse_variable_dans_laquelle_je_peux_facilement_faire_une_faute_de_fappe = 42``` je n'ai pas modifié ma variable initiale, j'ai juste deux variable et je vais me demander pourquoi les résultats de mes calculs sont faux.\n",
    "\n",
    "On peut mettre un peu tout ce qu'on veut à droite du `=` tant que ça fini par avoir une valeur une fois calculée."
   ]
  },
  {
   "cell_type": "code",
   "execution_count": null,
   "metadata": {},
   "outputs": [],
   "source": [
    "a = a + 12\n",
    "a = a + a\n",
    "a = une_fonction_qui_rend_le_double(14) #ca ne va pas marcher parce que cette fonction n'existe pas, mais vous comprennez l'idee"
   ]
  },
  {
   "cell_type": "markdown",
   "metadata": {},
   "source": [
    "### Exercice 1 :\n",
    "Dans la cellule ci-dessous, créez 3 variables. \n",
    "- la première nommée \"d\" contient False\n",
    "- la deuxième contient 6.3, donnez-lui le nom \"my_var\"\n",
    "- la troisième est décrit de la manière suivante\n",
    "\n",
    "Nom | Valeur\n",
    "--- | :---:\n",
    "my_other_var | \"I am literally text\"\n",
    "\n",
    "- la quatrième s'appellera \"rez\" et est égale a la valeur de `a` fois la valeur de my_var"
   ]
  },
  {
   "cell_type": "code",
   "execution_count": null,
   "metadata": {},
   "outputs": [],
   "source": [
    "#mettez vos reponses ici"
   ]
  },
  {
   "cell_type": "markdown",
   "metadata": {},
   "source": [
    "En dehors des opérations mathématiques classique comme l'addition `+`, la soustraction `-`, la multiplication `*` et la division `/` nous pouvons nous avons des opérations logiques dont le résultat est soit vrai `True` ou fausse `False`. Notez qu'en python ces valeurs prennent une majuscule.\n",
    "Ces opérations sont \n",
    "- plus grand que `>`\n",
    "- plus petit que `<`\n",
    "- plus grand ou égal à `>=`\n",
    "- plus petit ou égal à `<=`\n",
    "- égaux entre eux `==`\n",
    "- différents `!=`"
   ]
  },
  {
   "cell_type": "code",
   "execution_count": null,
   "metadata": {},
   "outputs": [],
   "source": [
    "logical_value = a < 42\n",
    "\n",
    "print(logical_value)\n",
    "print( a != a )"
   ]
  },
  {
   "cell_type": "markdown",
   "metadata": {},
   "source": [
    "### Exercice 2 :\n",
    "Imprimez (i.e utilisez `print()`) le résultat des opérations suivantes\n",
    "- a est égal à my_var\n",
    "- a est différent de my_var\n",
    "- b est inférieur ou égal à b"
   ]
  },
  {
   "cell_type": "code",
   "execution_count": null,
   "metadata": {},
   "outputs": [],
   "source": [
    "#mettez vos reponses ici"
   ]
  },
  {
   "cell_type": "markdown",
   "metadata": {},
   "source": [
    "## III. Listes\n",
    "\n",
    "[documentation officielle](https://docs.python.org/3/tutorial/datastructures.html)\n",
    "\n",
    "Les variables telles qu'on les connait nous permettent de manipuler des valeurs mais à l'unité. Le gros du travail étant de manipuler des données, on va avoir besoin d'une solution pour le faire en masse. Pour ça on a deux outils principaux, le premier étant les \"listes\"\n",
    "\n",
    "> liste\n",
    "\n",
    "```Une entité contenant 0, une ou plusieurs valeurs. Chaque valeur correspond à un \"index\" (c.à.d. sa place) \n",
    "Une liste s'écrit comme ceci : [0,1,1,2,3,5,8,13,21] \n",
    "```\n",
    "\n",
    "Notez que l'index commence à compter à partir de 0 et non de 1. Ce qui fait qu'une liste de 5 élément voit son index aller de 0 à 4.\n",
    "\n",
    "\n",
    "On pourrait représenter la liste de l'exemple ci-dessus comme ceci :  \n",
    "\n",
    "index | | | 0 | 1 | 2 | 3 | 4 | 5 | 6 | 7 | 8\n",
    "--- | | | --- | --- | --- | --- | --- | --- | --- | --- | ---\n",
    "valeur | | | 0 | 1 | 1 | 2 | 3 | 5 | 8 | 13 | 21\n",
    "\n",
    "\n",
    "Une liste est considérée comme une valeur (qui contient des valeurs) donc pour stocker une liste c'est la même procédure que ci-dessus."
   ]
  },
  {
   "cell_type": "code",
   "execution_count": null,
   "metadata": {},
   "outputs": [],
   "source": [
    "an_empty_list = []\n",
    "my_list = [0,1,1,2,3,5,8,13,21]\n",
    "my_mixed_list = [23, 4.20, True, \"dood\"]# une liste n'est pas necessairement du meme type (ceci dit c'est moins pratique)"
   ]
  },
  {
   "cell_type": "markdown",
   "metadata": {},
   "source": [
    "On se servira de ces listes dans les exemples suivants."
   ]
  },
  {
   "cell_type": "markdown",
   "metadata": {},
   "source": [
    "Quelque chose de très puissant (que l’on n’utilisera pas tout de suite) est qu'une valeur de notre liste peut être une autre liste. Si on voulait, on pourrait stocker dans une variable `excel` le pseudo-tableau-Excel ci-dessous \n",
    "\n",
    "| rank | word | pinyin | translation\n",
    "|:---: |:---: |:---:   |:--- \n",
    "|  1   |  的  |  de    |  of\n",
    "|  2   |  一  |  yī    | one, a little\n",
    "|  3   |  是  |  shì   | to be\n",
    "|  4   |  不  |  bù    | not\n",
    "|  5   |  了  |  le    | verb particle marking a new situation or a completed action"
   ]
  },
  {
   "cell_type": "code",
   "execution_count": null,
   "metadata": {},
   "outputs": [],
   "source": [
    "#pour se faciliter l'ecriture on peux ecrire en bloc, attention a bien tout decaler d'une tabulation jusqu'a la fin du bloc\n",
    "excel = [\n",
    "    [\"rank\",\"word\",\"pinyin\",\"translation\"],\n",
    "    [1,\"的\",\"de\",\"of\"],\n",
    "    [2,\"一\",\"yī\",\"one, a little\"],\n",
    "    [3,\"是\",\"shì\",\"to be\"],\n",
    "    [4,\"不\",\"bù\",\"not\"],\n",
    "    [5,\"了\",\"le\",\"verb particle marking a new situation or a completed action\"]]\n",
    "print(excel)"
   ]
  },
  {
   "cell_type": "markdown",
   "metadata": {},
   "source": [
    "### III.a Manipulation de listes\n",
    "#### III.a.1Lire une/des valeur(s) de la liste\n",
    "Pour interagir avec une valeur de particulière de la liste il faut utiliser le nom de la liste puis spécifier l'adresse de la valeur que l'on veut comme ceci :"
   ]
  },
  {
   "cell_type": "code",
   "execution_count": null,
   "metadata": {},
   "outputs": [],
   "source": [
    "print(my_list[2])#le 3ieme element de my_list\n",
    "print(my_mixed_list[0])#le 1er element de my_mixed_list\n",
    "print(my_mixed_list[2:4])#portion allant du 3ieme au 5ieme exclu "
   ]
  },
  {
   "cell_type": "markdown",
   "metadata": {},
   "source": [
    "### Exercice 3 \n",
    "- Créez un tableau appelle `pi` et donnez-lui les valeurs `3`, `14` et `15`\n",
    "- Affichez le 2ieme élément du tableau `my_mixed_list`\n",
    "- Affichez le troisième élément du tableau `excel`"
   ]
  },
  {
   "cell_type": "code",
   "execution_count": null,
   "metadata": {},
   "outputs": [],
   "source": [
    "#mettez vos reponses ici"
   ]
  },
  {
   "cell_type": "markdown",
   "metadata": {},
   "source": [
    "#### III.a.2 Connaitre la taille/longueur d'une liste\n",
    "Pour connaitre la taille d'une liste vous pouvez utiliser la fonction standard `len()` en faisant comme ceci. \n",
    "\n",
    "> fonction standard\n",
    "\n",
    "```une fonction qui fait directement partie du langage et non d'une librairie```"
   ]
  },
  {
   "cell_type": "code",
   "execution_count": null,
   "metadata": {},
   "outputs": [],
   "source": [
    "print( len(my_mixed_list) )"
   ]
  },
  {
   "cell_type": "markdown",
   "metadata": {},
   "source": [
    "### Exercice 4\n",
    "- Affichez la longueur de tableau `my_list`\n",
    "- Affichez la longueur du tableau `excel`\n",
    "- Bonus : Affichez la longueur de la première ligne du tableau `excel` (vous êtes libre de sauter les exercices bonus et je vous conseille de ne pas passer plus que 10min dessus après ça, revenez dessus plus tard si vraiment ça vous rend malade)"
   ]
  },
  {
   "cell_type": "markdown",
   "metadata": {},
   "source": [
    "#### III.a.3 Ajouter un élément dans une liste\n",
    "\n",
    "On peut ajouter un élément à la fin de la liste en utilisant la fonction `list.append()` comme ceci"
   ]
  },
  {
   "cell_type": "code",
   "execution_count": null,
   "metadata": {},
   "outputs": [],
   "source": [
    "print(my_mixed_list)\n",
    "\n",
    "my_mixed_list.append(\"nouvelle phrase\")\n",
    "\n",
    "print(my_mixed_list)"
   ]
  },
  {
   "cell_type": "markdown",
   "metadata": {},
   "source": [
    "#### III.a.4 Ajouter plusieurs éléments à une liste\n",
    "On peut ajouter plusieurs éléments à une liste en lui additionnant `+` des valeurs (fournies sous forme de liste :D )"
   ]
  },
  {
   "cell_type": "code",
   "execution_count": null,
   "metadata": {},
   "outputs": [],
   "source": [
    "print(my_mixed_list)\n",
    "\n",
    "my_mixed_list = my_mixed_list + [\"un paquet de \",52 ,\"cartes\"]\n",
    "\n",
    "print(my_mixed_list)"
   ]
  },
  {
   "cell_type": "markdown",
   "metadata": {},
   "source": [
    "#### Exercice 5 \n",
    "- Ajoutez 5.2 a `my_list`\n",
    "- bonus : Ajoutez la ligne suivante au tableau `excel` \n",
    "\n",
    "| 人 | rén |person\n",
    "| --- | --- | ---"
   ]
  },
  {
   "cell_type": "markdown",
   "metadata": {},
   "source": [
    "#### III.a.5 Exécuter du code pour chaque élément de la liste\n",
    "Pour manipuler toutes les valeurs d'une certaine façon on peut utiliser ce qui s'appelle une \"boucle\". Ci-dessous vous avez un exemple qui multiplie par 2 tous les éléments de `my_list`"
   ]
  },
  {
   "cell_type": "code",
   "execution_count": null,
   "metadata": {},
   "outputs": [],
   "source": [
    "print(my_list)\n",
    "\n",
    "for i in range(len(my_list)):\n",
    "    my_list[i] = my_list[i] * 2\n",
    "\n",
    "print(my_list)"
   ]
  },
  {
   "cell_type": "markdown",
   "metadata": {},
   "source": [
    "Ok, on va revenir là-dessus. Il y a deux choses à voir, `range(len(my_list))` et la boucle for en elle-même.\n",
    "\n",
    "`range(X)` produit des nombres allant de 0 à X exclu. On sait que `len(list)` vaux la longueur de la liste donc `len(my_list)` vaux 9 car il y a 9 éléments dans `my_list`. Donc `range(len(my_list))` est une suite de nombres qui va de 0 à 8 (on va jusqu'à 9 exclu). Ok ça c’est vu, donc on peut réécrire notre code en \"almost-python\" pour le rendre plus simple a comprendre.\n",
    "\n",
    "```\n",
    "for i in (0 to 9):\n",
    "    my_list[i] = my_list[i] * 2\n",
    "```\n",
    "\n",
    "Si on va jusqu'à se remettre tout ça en \"presque-python\" :\n",
    "```\n",
    "pour i dans (0 à 9):\n",
    "    my_list[i] = my_list[i] * 2\n",
    "```\n",
    "\n",
    "L’instruction qui est en deuxième est décalée vers la droite car ses instructions appartiennent à la première ligne. Ce que l'on dit c'est qu'on va faire la ou les lignes décalée d'un cran vers la droite à partir du symbole `:` pour chaque nombre i en allant de 0 à 9 exclu.\n",
    "\n",
    "Donc on va d'abord faire `my_list[0] = my_list[0] * 2` puis `my_list[1] = my_list[1] * 2` puis `my_list[2] = my_list[2] * 2` puis .... jusqu' à `my_list[8] = my_list[8] * 2`\n",
    "\n",
    "Le plus beau dans tout ça c'est que `for i in range(len(my_list)):` passera sur tous les éléments de `my_list` qu'elle contienne 2, 18 ou 1337 éléments."
   ]
  },
  {
   "cell_type": "markdown",
   "metadata": {},
   "source": [
    "#### Exercice 6\n",
    "Pour chaque élément de `my_list` affichez le résultat de l'opération \"l'élément est supérieur ou égal "
   ]
  },
  {
   "cell_type": "markdown",
   "metadata": {},
   "source": [
    "## IV. Dictionnaires\n",
    "\n",
    "[documentation officielle](https://docs.python.org/3/tutorial/datastructures.html#dictionaries)\n",
    "\n",
    "Le dictionnaire est l'autre solution majeure pour manipuler plusieurs données.\n",
    "\n",
    "> dictionnaire\n",
    "\n",
    "```Une collection de 0, 1 ou plusieurs noms, chacun associe a une valeur. \n",
    "Un dictionnaire s'écrit comme ceci : {'a_value':12, 'another_value': \"I am a sentence\", 'has_legs': False}\n",
    "```\n",
    "\n",
    "On pourrait représenter ce dictionnaire d'exemple comme ceci\n",
    "\n",
    "\n",
    "nom | valeur\n",
    ":---: | :---:\n",
    "a_value | 12\n",
    "another_value | \"I am a sentence\"\n",
    "has_legs | False"
   ]
  },
  {
   "cell_type": "code",
   "execution_count": null,
   "metadata": {},
   "outputs": [],
   "source": [
    "my_dict = {'a_value':12, 'another_value': \"I am a sentence\", 'has_legs': False}\n",
    "\n",
    "#pour plus de confort on peux ecrire un dictionnaire sur plusieurs lignes comme ceci\n",
    "the_same_dict = {'a_value':12, \n",
    "           'another_value': \"I am a sentence\",\n",
    "           'has_legs': False\n",
    "          }\n",
    "\n",
    "print(my_dict)"
   ]
  },
  {
   "cell_type": "markdown",
   "metadata": {},
   "source": [
    "Et oui, comme les listes, on peut mettre des dictionnaires dans un dictionnaire. On peut aussi mettre des listes dans un dictionnaire et on peut mettre des dictionnaires dans une liste 🤯 .Bon, on va pas jouer avec ça tout de suite mais vous pouvez vous rendre compte que nos données peuvent être vraiment structurées. Un enjeu majeur en programmation est l'écriture d'algorithmes qui utilise certaines parties ou la totalité de ces structures.\n",
    "\n",
    "#### Exercice 7\n",
    "Créez le dictionnaire suivant et stocker le dans une variable nommée `meow`\n",
    "\n",
    "nom | valeur\n",
    ":---:|:---:\n",
    "name| \"Azur\"\n",
    "specie|\"cat\"\n",
    "breed|\"european\"\n",
    "weight|3.8\n",
    "chipped | True"
   ]
  },
  {
   "cell_type": "code",
   "execution_count": null,
   "metadata": {},
   "outputs": [],
   "source": [
    "#mettez votre reponse ici"
   ]
  },
  {
   "cell_type": "markdown",
   "metadata": {},
   "source": [
    "### IV.a Manipulations de dictionnaires\n",
    "\n",
    "#### IV.a.1 Récupérer une valeur du dictionnaire en utilisant son nom"
   ]
  },
  {
   "cell_type": "code",
   "execution_count": null,
   "metadata": {},
   "outputs": [],
   "source": [
    "print(my_dict['has_legs'])"
   ]
  },
  {
   "cell_type": "markdown",
   "metadata": {},
   "source": [
    "#### IV.a.2 Modifier une valeur du dictionnaire"
   ]
  },
  {
   "cell_type": "code",
   "execution_count": null,
   "metadata": {},
   "outputs": [],
   "source": [
    "my_dict['a_value'] = 33\n",
    "print(my_dict)"
   ]
  },
  {
   "cell_type": "markdown",
   "metadata": {},
   "source": [
    "#### Exercice 8 \n",
    "Ajoutez `1.1` au `weight` du dictionnaire `meow`"
   ]
  },
  {
   "cell_type": "code",
   "execution_count": null,
   "metadata": {},
   "outputs": [],
   "source": [
    "#mettez votre reponse ici"
   ]
  },
  {
   "cell_type": "markdown",
   "metadata": {},
   "source": [
    "#### IV.a.3 Ajouter une nouvelle valeur dans un dictionnaire\n",
    "Il suffit de sélectionner un nom qui n'existe pas et de lui donner une valeur comme on le ferais avec une variable"
   ]
  },
  {
   "cell_type": "code",
   "execution_count": null,
   "metadata": {},
   "outputs": [],
   "source": [
    "my_dict['has_arms'] = True\n",
    "print(my_dict)"
   ]
  },
  {
   "cell_type": "markdown",
   "metadata": {},
   "source": [
    "#### IV.a.4 Exécuter du code pour chaque valeur du dictionnaire\n",
    "\n",
    "Comme précédemment on va tout multiplier par 2 pour servir d'exemple."
   ]
  },
  {
   "cell_type": "code",
   "execution_count": null,
   "metadata": {},
   "outputs": [],
   "source": [
    "print(my_dict)\n",
    "\n",
    "for name, value in my_dict.items():\n",
    "    my_dict[name] = value * 2\n",
    "    \n",
    "print(my_dict)"
   ]
  },
  {
   "cell_type": "markdown",
   "metadata": {},
   "source": [
    "Vous noterez que `has_legs` et `has_arms` sont maintenant des nombres parce que python préfère penser que False * 2 vaux 0 et que True * 2 vaux 2 plutôt que de nous afficher une erreur.\n",
    "\n",
    "Pour ne pas faire un détour extrêmement long j'expliquerais juste que si on retraduit cet exemple en \"preque-python\" ça nous donne ceci\n",
    "```\n",
    "pour chaque nom, valeur dans my_dict.elements:\n",
    "```\n",
    "\n",
    "A noter que l'ordre dans lequel s’est écrit a de l'importance. On aurait écrit `for value, name in my_dict.items():` on aurait le nom courant dans la variable `value` et la valeur courante dans la variable `name`"
   ]
  },
  {
   "cell_type": "markdown",
   "metadata": {},
   "source": [
    "# V. Fonctions\n",
    "> fonction\n",
    "\n",
    "```une suite d'instructions que l'on peut exécuter via un nom```\n",
    "\n",
    "Pour arriver jusqu'ici nous avons pu voir plusieurs fonctions comme `print()`, `len()` ou encore `range()`. Vu de loin une fonction est un nom, comme une variable, mais suivis par une paire de parenthèses.\n",
    "\n",
    "Si on rentre un peu plus dans le détail il faut noter 3 choses importantes pour chaque fonction\n",
    "- son nom, le lien qui va nous permettre de l'utiliser\n",
    "- ses entrées, les valeurs qui seront utilisées pour adapter le comportement des instructions (communément appelé \"paramètres\")\n",
    "- sa sortie, la valeur rendue par la fonction une fois les instructions exécutées (communément appelé \"valeur de retour\")\n",
    "Notez qu'une fonction peut ne pas avoir d'entrées et/ou de sortie.\n",
    "\n",
    "Le plus important tout de suite est de savoir lire la documentation d'une fonction. Pour ça on va prendre pour exemple la fonction `pow()` documentée a cette adresse https://docs.python.org/3/library/functions.html#pow\n",
    "\n",
    "```pow(base, exp[, mod])``` est ce que l'on appelle la \"signature\" d'une fonction. Grace a elle on sait directement que le nom est \"pow\" que la première valeur d'entrée est \"base\", la deuxième est \"exp\" et la dernière entre crochets est \"mod\". Si elle est entre crochet c'est que cette valeur est optionnelle. Si on lit la description on apprend que \"pow\" renvoie le nombre \"base puissance exp\"*\n",
    "\n",
    "... eh bien on a tout\n",
    "- son nom \"pow\"\n",
    "- ses entrées, \"base\", \"exp\" et optionnellement \"mod\"\n",
    "- sa sortie, \"base puissance exp\"\n",
    "\n",
    "Vous verrez également des signatures de fonction ressemblant à ceci ```int(x, base=10)```, nous avons 2 entrées, la différence est que \"base\" est obligatoire mais que si vous ne fournissez pas de valeur il utilisera le nombre 10 par défaut.\n",
    "\n",
    "*et si on fournit un \"mod\" on a \"le reste de base puissance exp divise par mod\" (je mets ça là pour être complet mais \"mod\" est un peu hors contexte, je vous encourage à faire comme s’il n'était pas là)"
   ]
  },
  {
   "cell_type": "markdown",
   "metadata": {},
   "source": [
    "#### Exercice 9\n",
    "Expliquer la fonction ci-dessous comme `pow()` ci-dessus\n",
    "\n",
    "```log(x[, base])```\n",
    "\n",
    "    With one argument, return the natural logarithm of x (to base e).\n",
    "\n",
    "    With two arguments, return the logarithm of x to the given base, calculated as log(x)/log(base)."
   ]
  },
  {
   "cell_type": "markdown",
   "metadata": {},
   "source": [
    "(Double cliquez pour éditer, Ctrl+Enter ou Cmd+Enter pour valider l’édition)\n",
    "- son nom :\n",
    "- ses entrées (si elle en a) :\n",
    "- sa sortie (si elle en a) :"
   ]
  },
  {
   "cell_type": "markdown",
   "metadata": {},
   "source": [
    "### V.a utiliser les fonctions d'un module\n",
    "Par défaut vous avez uniquement accès aux fonctions de la libraire standard de python https://docs.python.org/3/library/functions.html si on veut plus il faut importer des modules. \n",
    "\n",
    "Python viens par défaut avec quelques modules qu'on peut charger comme `math` qui contient la fonction `log()` qu'on vient de voir. D'ailleurs, sa signature exacte est en fait ```math.log(x[, base])``` mais math contient un paquets de fonction pour calculer https://docs.python.org/3/library/math.html\n",
    "\n",
    "Pour pouvoir utiliser les fonctions d'une librairie il faut l'importer comme ceci"
   ]
  },
  {
   "cell_type": "code",
   "execution_count": 3,
   "metadata": {},
   "outputs": [
    {
     "name": "stdout",
     "output_type": "stream",
     "text": [
      "0.0\n"
     ]
    }
   ],
   "source": [
    "import math\n",
    "\n",
    "print(math.log(1))"
   ]
  },
  {
   "cell_type": "markdown",
   "metadata": {},
   "source": [
    "Tous les module de python se trouvent ici : https://docs.python.org/3/library/ si vous en voulez plus il faudra installer une librairie\n",
    "\n",
    "## VI Installer puis importer une libraire\n",
    "\n",
    "Vous trouverez les étapes d'installation de chaque libraire dans le ```readme.md``` de leur github ou dans leur documentation mais en règle générale il faudra utiliser \"pip\" le gestionnaire de librairie depuis votre terminal. \n",
    "\n",
    "Admettons que je veuille installer [Altair](https://altair-viz.github.io/), on peut rapidement voir qu'en haut du sommaire on a \"installation\" qui me donne la commande ```pip install altair vega_datasets```. Si vous ne savez pas où taper cette commande, cherchez l'application \"terminal\" si vous êtes sur mac et \"cmd.exe\" si vous êtes sur windows.\n",
    "\n",
    "À partir de là je peux ```import altair``` pour pouvoir me servir de la librairie dans mon code. De manière intéressante on peut le renommer en quelque chose du plus court si on le souhaite avec ```import altair as alt```, faites quand même attention à la lisibilité."
   ]
  }
 ],
 "metadata": {
  "kernelspec": {
   "display_name": "Python 3",
   "language": "python",
   "name": "python3"
  },
  "language_info": {
   "codemirror_mode": {
    "name": "ipython",
    "version": 3
   },
   "file_extension": ".py",
   "mimetype": "text/x-python",
   "name": "python",
   "nbconvert_exporter": "python",
   "pygments_lexer": "ipython3",
   "version": "3.8.3"
  }
 },
 "nbformat": 4,
 "nbformat_minor": 4
}
